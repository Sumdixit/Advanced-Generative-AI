{
 "cells": [
  {
   "cell_type": "markdown",
   "id": "17668d1f-2629-4326-a0e7-a61c685c4416",
   "metadata": {},
   "source": [
    "CORE CODE"
   ]
  },
  {
   "cell_type": "code",
   "execution_count": 1,
   "id": "6f11f3c4-abab-4675-968e-2edcfb09109d",
   "metadata": {},
   "outputs": [
    {
     "name": "stdout",
     "output_type": "stream",
     "text": [
      "voc-1778426188112272289710168b03bd9b968e9.06029332\n"
     ]
    }
   ],
   "source": [
    "import os\n",
    "print(os.environ.get(\"OPENAI_API_KEY\"))"
   ]
  },
  {
   "cell_type": "code",
   "execution_count": 2,
   "id": "21f8cead-6a10-4fc1-bac6-8828312e7bdc",
   "metadata": {},
   "outputs": [],
   "source": [
    "import openai\n"
   ]
  },
  {
   "cell_type": "code",
   "execution_count": 3,
   "id": "3ef95e18-fa94-49cc-a791-99916bfb3b95",
   "metadata": {},
   "outputs": [
    {
     "data": {
      "text/plain": [
       "'1.107.1'"
      ]
     },
     "execution_count": 3,
     "metadata": {},
     "output_type": "execute_result"
    }
   ],
   "source": [
    "openai.__version__"
   ]
  },
  {
   "cell_type": "code",
   "execution_count": 6,
   "id": "0b5b1777-ab8d-4381-a7e9-cd8d0e700a18",
   "metadata": {},
   "outputs": [
    {
     "name": "stdout",
     "output_type": "stream",
     "text": [
      "Hello! How can I assist you today?\n"
     ]
    }
   ],
   "source": [
    "##new\n",
    "from openai import OpenAI\n",
    "\n",
    "client = OpenAI()\n",
    "\n",
    "def get_completion(prompt, model=\"gpt-3.5-turbo\"):\n",
    "    response = client.chat.completions.create(\n",
    "        model=model,\n",
    "        messages=[\n",
    "            {\"role\": \"user\", \"content\": prompt}\n",
    "        ],\n",
    "        temperature=0,\n",
    "    )\n",
    "    return response.choices[0].message.content\n",
    "print(get_completion(\"Hello\"))\n"
   ]
  },
  {
   "cell_type": "code",
   "execution_count": null,
   "id": "c4efd7a9-e8bc-49dc-b72e-69b4186063a2",
   "metadata": {},
   "outputs": [],
   "source": []
  },
  {
   "cell_type": "code",
   "execution_count": 4,
   "id": "7496d0f9-aa79-43f8-abeb-b4416ce39163",
   "metadata": {},
   "outputs": [
    {
     "ename": "APIRemovedInV1",
     "evalue": "\n\nYou tried to access openai.ChatCompletion, but this is no longer supported in openai>=1.0.0 - see the README at https://github.com/openai/openai-python for the API.\n\nYou can run `openai migrate` to automatically upgrade your codebase to use the 1.0.0 interface. \n\nAlternatively, you can pin your installation to the old version, e.g. `pip install openai==0.28`\n\nA detailed migration guide is available here: https://github.com/openai/openai-python/discussions/742\n",
     "output_type": "error",
     "traceback": [
      "\u001b[0;31m---------------------------------------------------------------------------\u001b[0m",
      "\u001b[0;31mAPIRemovedInV1\u001b[0m                            Traceback (most recent call last)",
      "\u001b[0;32m/tmp/ipykernel_65/3118336089.py\u001b[0m in \u001b[0;36m<cell line: 9>\u001b[0;34m()\u001b[0m\n\u001b[1;32m      7\u001b[0m     )\n\u001b[1;32m      8\u001b[0m     \u001b[0;32mreturn\u001b[0m \u001b[0mresponse\u001b[0m\u001b[0;34m.\u001b[0m\u001b[0mchoices\u001b[0m\u001b[0;34m[\u001b[0m\u001b[0;36m0\u001b[0m\u001b[0;34m]\u001b[0m\u001b[0;34m.\u001b[0m\u001b[0mmessage\u001b[0m\u001b[0;34m[\u001b[0m\u001b[0;34m\"content\"\u001b[0m\u001b[0;34m]\u001b[0m\u001b[0;34m\u001b[0m\u001b[0;34m\u001b[0m\u001b[0m\n\u001b[0;32m----> 9\u001b[0;31m \u001b[0mprint\u001b[0m\u001b[0;34m(\u001b[0m\u001b[0mget_completion\u001b[0m\u001b[0;34m(\u001b[0m\u001b[0;34m\"Hello\"\u001b[0m\u001b[0;34m)\u001b[0m\u001b[0;34m)\u001b[0m\u001b[0;34m\u001b[0m\u001b[0;34m\u001b[0m\u001b[0m\n\u001b[0m\u001b[1;32m     10\u001b[0m \u001b[0;34m\u001b[0m\u001b[0m\n",
      "\u001b[0;32m/tmp/ipykernel_65/3118336089.py\u001b[0m in \u001b[0;36mget_completion\u001b[0;34m(prompt, model)\u001b[0m\n\u001b[1;32m      1\u001b[0m \u001b[0;32mdef\u001b[0m \u001b[0mget_completion\u001b[0m\u001b[0;34m(\u001b[0m\u001b[0mprompt\u001b[0m\u001b[0;34m,\u001b[0m \u001b[0mmodel\u001b[0m\u001b[0;34m=\u001b[0m\u001b[0;34m\"gpt-3.5-turbo\"\u001b[0m\u001b[0;34m)\u001b[0m\u001b[0;34m:\u001b[0m\u001b[0;34m\u001b[0m\u001b[0;34m\u001b[0m\u001b[0m\n\u001b[1;32m      2\u001b[0m     \u001b[0mmessages\u001b[0m \u001b[0;34m=\u001b[0m \u001b[0;34m[\u001b[0m\u001b[0;34m{\u001b[0m\u001b[0;34m\"role\"\u001b[0m\u001b[0;34m:\u001b[0m \u001b[0;34m\"user\"\u001b[0m\u001b[0;34m,\u001b[0m \u001b[0;34m\"content\"\u001b[0m\u001b[0;34m:\u001b[0m \u001b[0mprompt\u001b[0m\u001b[0;34m}\u001b[0m\u001b[0;34m]\u001b[0m\u001b[0;34m\u001b[0m\u001b[0;34m\u001b[0m\u001b[0m\n\u001b[0;32m----> 3\u001b[0;31m     response = openai.ChatCompletion.create(\n\u001b[0m\u001b[1;32m      4\u001b[0m         \u001b[0mmodel\u001b[0m\u001b[0;34m=\u001b[0m\u001b[0mmodel\u001b[0m\u001b[0;34m,\u001b[0m\u001b[0;34m\u001b[0m\u001b[0;34m\u001b[0m\u001b[0m\n\u001b[1;32m      5\u001b[0m         \u001b[0mmessages\u001b[0m\u001b[0;34m=\u001b[0m\u001b[0mmessages\u001b[0m\u001b[0;34m,\u001b[0m\u001b[0;34m\u001b[0m\u001b[0;34m\u001b[0m\u001b[0m\n",
      "\u001b[0;32m~/.local/lib/python3.10/site-packages/openai/lib/_old_api.py\u001b[0m in \u001b[0;36m__call__\u001b[0;34m(self, *_args, **_kwargs)\u001b[0m\n\u001b[1;32m     37\u001b[0m \u001b[0;34m\u001b[0m\u001b[0m\n\u001b[1;32m     38\u001b[0m     \u001b[0;32mdef\u001b[0m \u001b[0m__call__\u001b[0m\u001b[0;34m(\u001b[0m\u001b[0mself\u001b[0m\u001b[0;34m,\u001b[0m \u001b[0;34m*\u001b[0m\u001b[0m_args\u001b[0m\u001b[0;34m:\u001b[0m \u001b[0mAny\u001b[0m\u001b[0;34m,\u001b[0m \u001b[0;34m**\u001b[0m\u001b[0m_kwargs\u001b[0m\u001b[0;34m:\u001b[0m \u001b[0mAny\u001b[0m\u001b[0;34m)\u001b[0m \u001b[0;34m->\u001b[0m \u001b[0mAny\u001b[0m\u001b[0;34m:\u001b[0m\u001b[0;34m\u001b[0m\u001b[0;34m\u001b[0m\u001b[0m\n\u001b[0;32m---> 39\u001b[0;31m         \u001b[0;32mraise\u001b[0m \u001b[0mAPIRemovedInV1\u001b[0m\u001b[0;34m(\u001b[0m\u001b[0msymbol\u001b[0m\u001b[0;34m=\u001b[0m\u001b[0mself\u001b[0m\u001b[0;34m.\u001b[0m\u001b[0m_symbol\u001b[0m\u001b[0;34m)\u001b[0m\u001b[0;34m\u001b[0m\u001b[0;34m\u001b[0m\u001b[0m\n\u001b[0m\u001b[1;32m     40\u001b[0m \u001b[0;34m\u001b[0m\u001b[0m\n\u001b[1;32m     41\u001b[0m \u001b[0;34m\u001b[0m\u001b[0m\n",
      "\u001b[0;31mAPIRemovedInV1\u001b[0m: \n\nYou tried to access openai.ChatCompletion, but this is no longer supported in openai>=1.0.0 - see the README at https://github.com/openai/openai-python for the API.\n\nYou can run `openai migrate` to automatically upgrade your codebase to use the 1.0.0 interface. \n\nAlternatively, you can pin your installation to the old version, e.g. `pip install openai==0.28`\n\nA detailed migration guide is available here: https://github.com/openai/openai-python/discussions/742\n"
     ]
    }
   ],
   "source": [
    "import openai\n",
    "\n",
    "def get_completion(prompt, model=\"gpt-3.5-turbo\"):\n",
    "    messages = [{\"role\": \"user\", \"content\": prompt}]\n",
    "    response = openai.ChatCompletion.create(\n",
    "        model=model,\n",
    "        messages=messages,\n",
    "        temperature=0,\n",
    "    )\n",
    "    return response.choices[0].message[\"content\"]\n",
    "print(get_completion(\"Hello\"))\n",
    "\n"
   ]
  },
  {
   "cell_type": "code",
   "execution_count": 2,
   "id": "587e4ea4-e89f-409a-9cec-6f0514bcdd75",
   "metadata": {},
   "outputs": [
    {
     "name": "stdout",
     "output_type": "stream",
     "text": [
      "Hello, welcome to our class! I'm glad to have you here. If you have any questions or need help with anything, feel free to ask. Let's have a great learning experience together!\n"
     ]
    }
   ],
   "source": [
    "print(get_completion(\"welcome my student from Saurabh\"))"
   ]
  },
  {
   "cell_type": "markdown",
   "id": "288612d1-d3d7-4475-a0a7-d03fec366f81",
   "metadata": {},
   "source": [
    "# ROLE PLAY"
   ]
  },
  {
   "cell_type": "code",
   "execution_count": 3,
   "id": "40e64d83-ec8d-483c-9c7a-9f0313fa49b3",
   "metadata": {},
   "outputs": [],
   "source": [
    "def get_completion_with_role(prompt, role=\"You are a helpful teacher.\"):\n",
    "    messages = [\n",
    "        {\"role\": \"system\", \"content\": role},\n",
    "        {\"role\": \"user\", \"content\": prompt}\n",
    "    ]\n",
    "    response = openai.ChatCompletion.create(\n",
    "        model=\"gpt-3.5-turbo\",\n",
    "        messages=messages\n",
    "    )\n",
    "    return response.choices[0].message[\"content\"]\n"
   ]
  },
  {
   "cell_type": "code",
   "execution_count": 5,
   "id": "2a3b775c-8bbe-4371-9bd4-36488faf9d42",
   "metadata": {},
   "outputs": [
    {
     "name": "stdout",
     "output_type": "stream",
     "text": [
      "To study faster, it's important to focus on efficiency rather than speed. Here are some tips to help you study more efficiently:\n",
      "\n",
      "1. Set specific goals: Identify what you need to accomplish during your study session and break it down into smaller, manageable tasks.\n",
      "\n",
      "2. Use active learning techniques: Instead of passively reading or highlighting, engage with the material by summarizing, questioning, and teaching the concepts to yourself or others.\n",
      "\n",
      "3. Limit distractions: Find a quiet and organized study space where you can focus without interruptions. Put away your phone and other distractions to stay focused.\n",
      "\n",
      "4. Use study aids: Utilize study aids like flashcards, mind maps, and mnemonic devices to help you retain information more effectively.\n",
      "\n",
      "5. Practice time management: Use techniques like the Pomodoro Technique to break your study sessions into focused intervals with short breaks in between.\n",
      "\n",
      "6. Prioritize important information: Identify key concepts and focus your efforts on understanding and remembering them, rather than trying to memorize every detail.\n",
      "\n",
      "7. Get enough rest: Make sure to get an adequate amount of sleep to stay alert and focused during your study sessions.\n",
      "\n",
      "Remember that everyone learns at their own pace, so find a study method that works best for you and stick to it. Good luck with your studies!\n"
     ]
    }
   ],
   "source": [
    "prompt=\"Guide me a way to study faster\"\n",
    "print(get_completion_with_role(prompt))"
   ]
  },
  {
   "cell_type": "code",
   "execution_count": null,
   "id": "e20b36f8-847b-44f4-b79d-f886bbdd3c10",
   "metadata": {},
   "outputs": [],
   "source": []
  },
  {
   "cell_type": "markdown",
   "id": "8c4ed1b5-1f38-4c11-aaf4-86c09bbaa824",
   "metadata": {},
   "source": [
    "TRYIT:\n",
    "\n",
    "\n",
    "Task: Change the system message to make the AI act as:\n",
    "\n",
    "A teacher\n",
    "\n",
    "A comedian\n",
    "\n",
    "A strict grammar corrector\n",
    "\n",
    "Goal: Show how system messages guide model behavior."
   ]
  },
  {
   "cell_type": "markdown",
   "id": "da32a5b0-6426-4433-bd69-0b1ed3277e94",
   "metadata": {},
   "source": [
    "# Summarization\n"
   ]
  },
  {
   "cell_type": "code",
   "execution_count": null,
   "id": "12935c26-8d50-4128-b622-6847137478e4",
   "metadata": {},
   "outputs": [],
   "source": [
    "\n",
    "Task: Give the model a paragraph of text and ask it to:\n",
    "\n",
    "Summarize in 1 line\n",
    "\n",
    "Summarize in bullet points\n",
    "\n",
    "Goal: Learn text compression with GenAI."
   ]
  },
  {
   "cell_type": "code",
   "execution_count": 2,
   "id": "47235c18-d8d6-45cf-af9f-cc05f39c6635",
   "metadata": {},
   "outputs": [],
   "source": [
    "text='''\n",
    "World War I[b] or the First World War (28 July 1914 – 11 November 1918), also known as the Great War, was a global conflict between two coalitions: the Allies (or Entente) and the Central Powers. Main areas of conflict included Europe and the Middle East, as well as parts of Africa and the Asia-Pacific. There were important developments in weaponry including tanks, aircraft, artillery, machine guns, and chemical weapons. One of the deadliest conflicts in history, it resulted in an estimated 30 million military casualties, plus another 8 million civilian deaths from war-related causes and genocide. The movement of large numbers of people was a major factor in the deadly Spanish flu pandemic.\n",
    "\n",
    "The causes of World War I included the rise of Germany and decline of the Ottoman Empire, which disturbed the long-standing balance of power in Europe, imperial rivalries, and shifting alliances and an arms race between the great powers. Growing tensions between the great powers and in the Balkans reached a breaking point on 28 June 1914, when Gavrilo Princip, a Bosnian Serb, assassinated the heir to the Austro-Hungarian throne. Austria-Hungary blamed Serbia, and declared war on 28 July. After Russia mobilised in Serbia's defence, Germany declared war on Russia and France, who had an alliance. The United Kingdom entered after Germany invaded Belgium, and the Ottomans joined the Central Powers in November. Germany's strategy in 1914 was to quickly defeat France then transfer its forces to the east, but its advance was halted in September, and by the end of the year the Western Front consisted of a near-continuous line of trenches from the English Channel to Switzerland. The Eastern Front was more dynamic, but neither side gained a decisive advantage, despite costly offensives. Italy, Bulgaria, Romania, Greece and others entered the war from 1915 onward.\n",
    "\n",
    "Major battles, including those at Verdun, the Somme, and Passchendaele, failed to break the stalemate on the Western Front. In April 1917, the United States joined the Allies after Germany resumed unrestricted submarine warfare against Atlantic shipping. Later that year, the Bolsheviks seized power in Russia in the October Revolution; Soviet Russia signed an armistice with the Central Powers in December, followed by a separate peace in March 1918. That month, Germany launched a spring offensive in the west, which despite initial successes left the German Army exhausted and demoralised. The Allied Hundred Days Offensive, beginning in August 1918, caused a collapse of the German front line. Following the Vardar Offensive, Bulgaria signed an armistice in late September. By early November, the Ottoman Empire and Austria-Hungary had each signed armistices with the Allies, leaving Germany isolated. Facing a revolution at home, Kaiser Wilhelm II abdicated on 9 November, and the war ended with the Armistice of 11 November 1918.\n",
    "\n",
    "The Paris Peace Conference of 1919–1920 imposed settlements on the defeated powers. Under the Treaty of Versailles, Germany lost significant territories, was disarmed, and was required to pay large war reparations to the Allies. The dissolution of the Russian, German, Austro-Hungarian, and Ottoman Empires redrew national boundaries and resulted in the creation of new independent states including Poland, Finland, the Baltic states, Czechoslovakia, and Yugoslavia. The League of Nations was established to maintain world peace, but its failure to manage instability during the interwar period contributed to the outbreak of World War II in 1939.\n",
    "\n",
    "Names\n",
    "Before World War II, the events of 1914–1918 were generally known as the Great War or simply the World War.[1] In August 1914, the magazine The Independent wrote \"This is the Great War. It names itself.\"[2] In October 1914, the Canadian magazine Maclean's similarly wrote, \"Some wars name themselves. This is the Great War.\"[3] Contemporary Europeans also referred to it as \"the war to end war\" and it was also described as \"the war to end all wars\" due to their perception of its unparalleled scale, devastation, and loss of life.[4] The first recorded use of the term First World War was in September 1914 by German biologist and philosopher Ernst Haeckel who stated, \"There is no doubt that the course and character of the feared 'European War' ... will become the first world war in the full sense of the word.\"[5]\n",
    "\n",
    "Background\n",
    "Main article: Causes of World War I\n",
    "Political and military alliances\n",
    "Map of Europe focusing on Austria-Hungary and marking the central location of ethnic groups in it including Slovaks, Czechs, Slovenes, Croats, Serbs, Romanians, Ukrainians, Poles.\n",
    "Rival military coalitions in 1914:[c]\n",
    "  Triple Entente\n",
    "  Triple Alliance\n",
    "For much of the 19th century, the major European powers maintained a tenuous balance of power, known as the Concert of Europe.[6] After 1848, this was challenged by Britain's withdrawal into so-called splendid isolation, the decline of the Ottoman Empire, New Imperialism, and the rise of Prussia under Otto von Bismarck. Victory in the 1870–1871 Franco-Prussian War allowed Bismarck to consolidate a German Empire. Post-1871, the primary aim of French policy was to avenge this defeat,[7] but by the early 1890s, this had switched to the expansion of the French colonial empire.[8]\n",
    "\n",
    "In 1873, Bismarck negotiated the League of the Three Emperors, which included Austria-Hungary, Russia, and Germany. After the 1877–1878 Russo-Turkish War, the League was dissolved due to Austrian concerns over the expansion of Russian influence in the Balkans, an area they considered to be of vital strategic interest. Germany and Austria-Hungary then formed the 1879 Dual Alliance, which became the Triple Alliance when Italy joined in 1882.[9] For Bismarck, the purpose of these agreements was to isolate France by ensuring the three empires resolved any disputes among themselves. In 1887, Bismarck set up the Reinsurance Treaty, a secret agreement between Germany and Russia to remain neutral if either were attacked by France or Austria-Hungary.[10]\n",
    "\n",
    "\n",
    "World empires and colonies c. 1914\n",
    "For Bismarck, peace with Russia was the foundation of German foreign policy, but in 1890, he was forced to retire by Wilhelm II. The latter was persuaded not to renew the Reinsurance Treaty by his new Chancellor, Leo von Caprivi.[11] This gave France an opening to agree to the Franco-Russian Alliance in 1894, which was then followed by the 1904 Entente Cordiale with Britain. The Triple Entente was completed by the 1907 Anglo-Russian Convention. While not formal alliances, by settling longstanding colonial disputes in Asia and Africa, British support for France or Russia in any future conflict became a possibility.[12] This was accentuated by British and Russian support for France against Germany during the 1911 Agadir Crisis.[13]\n",
    "\n",
    "Arms race\n",
    "\n",
    "SMS Rheinland, a Nassau-class battleship, Germany's first response to the British Dreadnought, 1910\n",
    "German economic and industrial strength continued to expand rapidly post-1871. Backed by Wilhelm II, Admiral Alfred von Tirpitz sought to use this growth to build an Imperial German Navy that could compete with the British Royal Navy.[14] This policy was based on the work of US naval author Alfred Thayer Mahan, who argued that possession of a blue-water navy was vital for global power projection; Tirpitz had his books translated into German, while Wilhelm made them required reading for his advisors and senior military personnel.[15]\n",
    "\n",
    "Bismarck opposed any attempt to compete with the Royal Navy, since he believed Britain would not interfere in Europe as long as its maritime supremacy remained secure. His dismissal in 1890 led to a change in policy and the start of an Anglo-German naval arms race.[16] Despite the vast sums spent by Tirpitz, the launch of HMS Dreadnought in 1906 made every existing battleship obsolete, and gave the British a technological advantage they never relinquished.[14] Ultimately, Germany invested huge resources on creating a navy large enough to antagonise Britain, but not defeat it. In 1911, Chancellor Theobald von Bethmann Hollweg acknowledged defeat, leading to the Rüstungswende or 'armaments turning point', when he switched expenditure from the navy to the army.[17]\n",
    "\n",
    "This decision was driven by German concerns over the speed of Russia's recovery from defeat in the Russo-Japanese War and the subsequent 1905 Russian Revolution. Economic reforms led to a significant post-1908 expansion of railways and transportation infrastructure, particularly in its western border regions.[18] Since Germany and Austria-Hungary relied on faster mobilisation to compensate for their numerical inferiority compared to Russia, the threat posed by the closing of this gap was more important than competing with the Royal Navy. After Germany expanded its standing army by 170,000 troops in 1913, France extended compulsory military service from two to three years, sparking similar measures from the Balkan powers, Italy, the Ottoman Empire and Austria-Hungary. Absolute figures are difficult to calculate due to differences in categorising expenditure since they often omit civilian infrastructure projects like railways which had logistical importance and military use. However, from 1908 to 1913, military spending by the six major European powers increased by over 50% in real terms.[19]\n",
    "\n",
    "Conflicts in the Balkans\n",
    "\n",
    "Ethno-linguistic map of Austria-Hungary, 1910. Bosnia-Herzegovina was annexed in 1908.\n",
    "The years before 1914 were marked by a series of crises in the Balkans, as other powers sought to benefit from the Ottoman decline. While Pan-Slavic and Orthodox Russia considered itself the protector of Serbia and other Slav states, they preferred the strategically vital Bosporus straits to be controlled by a weak Ottoman government, rather than an ambitious Slav power like Bulgaria. Russia had ambitions in northeastern Anatolia while its clients had overlapping claims in the Balkans. These competing interests divided Russian policy-makers and added to regional instability.[20]\n",
    "\n",
    "Austrian statesmen viewed the Balkans as essential for the continued existence of their Empire and saw Serbian expansion as a direct threat. The 1908–1909 Bosnian Crisis began when Austria annexed the former Ottoman territory of Bosnia and Herzegovina, which it had occupied since 1878. Timed to coincide with the Bulgarian Declaration of Independence from the Ottoman Empire, this unilateral action was denounced by the European powers, but accepted as there was no consensus on how to resolve the situation. Some historians see this as a significant escalation, ending any chance of Austria cooperating with Russia in the Balkans, while also damaging diplomatic relations between Serbia and Italy.[21]\n",
    "'''"
   ]
  },
  {
   "cell_type": "code",
   "execution_count": 10,
   "id": "8eba00ee-68fd-4bad-9c99-96146cd7080b",
   "metadata": {},
   "outputs": [
    {
     "name": "stdout",
     "output_type": "stream",
     "text": [
      "Defaulting to user installation because normal site-packages is not writeable\n",
      "Requirement already satisfied: openai in ./.local/lib/python3.10/site-packages (1.107.1)\n",
      "Requirement already satisfied: anyio<5,>=3.5.0 in /usr/local/lib/python3.10/site-packages (from openai) (3.7.1)\n",
      "Requirement already satisfied: distro<2,>=1.7.0 in /usr/local/lib/python3.10/site-packages (from openai) (1.7.0)\n",
      "Requirement already satisfied: httpx<1,>=0.23.0 in /usr/local/lib/python3.10/site-packages (from openai) (0.25.2)\n",
      "Requirement already satisfied: jiter<1,>=0.4.0 in ./.local/lib/python3.10/site-packages (from openai) (0.10.0)\n",
      "Requirement already satisfied: pydantic<3,>=1.9.0 in ./.local/lib/python3.10/site-packages (from openai) (2.11.7)\n",
      "Requirement already satisfied: sniffio in /usr/local/lib/python3.10/site-packages (from openai) (1.3.0)\n",
      "Requirement already satisfied: tqdm>4 in /usr/local/lib/python3.10/site-packages (from openai) (4.66.1)\n",
      "Requirement already satisfied: typing-extensions<5,>=4.11 in ./.local/lib/python3.10/site-packages (from openai) (4.15.0)\n",
      "Requirement already satisfied: idna>=2.8 in /usr/local/lib/python3.10/site-packages (from anyio<5,>=3.5.0->openai) (3.6)\n",
      "Requirement already satisfied: exceptiongroup in /usr/local/lib/python3.10/site-packages (from anyio<5,>=3.5.0->openai) (1.2.0)\n",
      "Requirement already satisfied: certifi in /usr/local/lib/python3.10/site-packages (from httpx<1,>=0.23.0->openai) (2023.11.17)\n",
      "Requirement already satisfied: httpcore==1.* in /usr/local/lib/python3.10/site-packages (from httpx<1,>=0.23.0->openai) (1.0.2)\n",
      "Requirement already satisfied: h11<0.15,>=0.13 in /usr/local/lib/python3.10/site-packages (from httpcore==1.*->httpx<1,>=0.23.0->openai) (0.14.0)\n",
      "Requirement already satisfied: annotated-types>=0.6.0 in /usr/local/lib/python3.10/site-packages (from pydantic<3,>=1.9.0->openai) (0.6.0)\n",
      "Requirement already satisfied: pydantic-core==2.33.2 in ./.local/lib/python3.10/site-packages (from pydantic<3,>=1.9.0->openai) (2.33.2)\n",
      "Requirement already satisfied: typing-inspection>=0.4.0 in ./.local/lib/python3.10/site-packages (from pydantic<3,>=1.9.0->openai) (0.4.1)\n"
     ]
    }
   ],
   "source": [
    "! pip install openai"
   ]
  },
  {
   "cell_type": "code",
   "execution_count": 11,
   "id": "0c601294-0054-455c-9e0e-d2645c9e046a",
   "metadata": {},
   "outputs": [
    {
     "ename": "NameError",
     "evalue": "name 'openai' is not defined",
     "output_type": "error",
     "traceback": [
      "\u001b[0;31m---------------------------------------------------------------------------\u001b[0m",
      "\u001b[0;31mNameError\u001b[0m                                 Traceback (most recent call last)",
      "\u001b[0;32m/tmp/ipykernel_65/581725782.py\u001b[0m in \u001b[0;36m<cell line: 25>\u001b[0;34m()\u001b[0m\n\u001b[1;32m     23\u001b[0m \u001b[0;31m#print(get_completion(\"Hello\"))\u001b[0m\u001b[0;34m\u001b[0m\u001b[0;34m\u001b[0m\u001b[0m\n\u001b[1;32m     24\u001b[0m \u001b[0;34m\u001b[0m\u001b[0m\n\u001b[0;32m---> 25\u001b[0;31m \u001b[0mprint\u001b[0m\u001b[0;34m(\u001b[0m\u001b[0mget_completion_with_role\u001b[0m\u001b[0;34m(\u001b[0m\u001b[0mprompt\u001b[0m\u001b[0;34m)\u001b[0m\u001b[0;34m)\u001b[0m\u001b[0;34m\u001b[0m\u001b[0;34m\u001b[0m\u001b[0m\n\u001b[0m",
      "\u001b[0;32m/tmp/ipykernel_65/1393437967.py\u001b[0m in \u001b[0;36mget_completion_with_role\u001b[0;34m(prompt, role)\u001b[0m\n\u001b[1;32m     12\u001b[0m         \u001b[0;34m{\u001b[0m\u001b[0;34m\"role\"\u001b[0m\u001b[0;34m:\u001b[0m \u001b[0;34m\"user\"\u001b[0m\u001b[0;34m,\u001b[0m \u001b[0;34m\"content\"\u001b[0m\u001b[0;34m:\u001b[0m \u001b[0mprompt\u001b[0m\u001b[0;34m}\u001b[0m\u001b[0;34m\u001b[0m\u001b[0;34m\u001b[0m\u001b[0m\n\u001b[1;32m     13\u001b[0m     ]\n\u001b[0;32m---> 14\u001b[0;31m     response = openai.ChatCompletion.create(\n\u001b[0m\u001b[1;32m     15\u001b[0m         \u001b[0mmodel\u001b[0m\u001b[0;34m=\u001b[0m\u001b[0;34m\"gpt-3.5-turbo\"\u001b[0m\u001b[0;34m,\u001b[0m\u001b[0;34m\u001b[0m\u001b[0;34m\u001b[0m\u001b[0m\n\u001b[1;32m     16\u001b[0m         \u001b[0mmessages\u001b[0m\u001b[0;34m=\u001b[0m\u001b[0mmessages\u001b[0m\u001b[0;34m\u001b[0m\u001b[0;34m\u001b[0m\u001b[0m\n",
      "\u001b[0;31mNameError\u001b[0m: name 'openai' is not defined"
     ]
    }
   ],
   "source": []
  },
  {
   "cell_type": "code",
   "execution_count": 4,
   "id": "f1e57b7c-aa84-4a4f-bfb6-d62c8cf54893",
   "metadata": {},
   "outputs": [
    {
     "name": "stdout",
     "output_type": "stream",
     "text": [
      "- World War I, also known as the Great War, was a global conflict between the Allies and the Central Powers from 1914 to 1918.\n",
      "- The war was caused by the rise of Germany, decline of the Ottoman Empire, imperial rivalries, shifting alliances, and an arms race.\n",
      "- Major battles like Verdun and the Somme failed to break the stalemate on the Western Front.\n",
      "- The war ended with the Armistice of 11 November 1918, leading to the Treaty of Versailles and the creation of new independent states.\n",
      "- The conflict resulted in significant casualties, technological advancements in weaponry, and the deadly Spanish flu pandemic.\n",
      "\n",
      "Keywords: World War I, Great War, Allies, Central Powers, Germany, Ottoman Empire, arms race, major battles, Western Front, Armistice, Treaty of Versailles, casualties, technological advancements, Spanish flu pandemic.\n"
     ]
    }
   ],
   "source": [
    "\n",
    "prompt=f'''\n",
    "Provide a summary for the given {text}.\n",
    "**Rules**\n",
    "1. Provide 5 bullet points with top summary lines\n",
    "2. Make it small and precise\n",
    "3. Also provide key words that we have in the given text\n",
    "'''\n",
    "\n",
    "##new\n",
    "from openai import OpenAI\n",
    "client = OpenAI()\n",
    "\n",
    "def get_completion(prompt, model=\"gpt-3.5-turbo\"):\n",
    "    response = client.chat.completions.create(\n",
    "        model=model,\n",
    "        messages=[\n",
    "            {\"role\": \"system\", \"content\": f\"you are a helpful assistant providing summary of given text:{text}\"},\n",
    "            {\"role\": \"user\", \"content\": prompt}\n",
    "        ],\n",
    "        temperature=0,\n",
    "    )\n",
    "    return response.choices[0].message.content\n",
    "#print(get_completion(\"Hello\"))\n",
    "\n",
    "print(get_completion(prompt))"
   ]
  },
  {
   "cell_type": "code",
   "execution_count": 4,
   "id": "86d6557f-eb5a-4fe3-997d-50489d291782",
   "metadata": {},
   "outputs": [],
   "source": [
    "#summarizer"
   ]
  },
  {
   "cell_type": "markdown",
   "id": "f9c9da91-acc1-443f-ba28-01624dd9a63c",
   "metadata": {},
   "source": [
    "Exercise 5: Question Answering Bot\n",
    "\n",
    "Task: Write a function where the student pastes some content (e.g., a Wikipedia article) and the model answers questions about it.\n",
    "\n",
    "Goal: Practice context-passing."
   ]
  },
  {
   "cell_type": "code",
   "execution_count": null,
   "id": "e7474ecd-b181-47e1-bb2b-91707c4b7bbf",
   "metadata": {},
   "outputs": [],
   "source": []
  },
  {
   "cell_type": "markdown",
   "id": "32aaa2c4-83b8-4ccf-9c5d-c19aa5a2c54c",
   "metadata": {},
   "source": [
    "Exercise 6: Multi-turn Chat\n",
    "\n",
    "Task: Modify the code to remember conversation history (append messages to the list).\n",
    "\n",
    "Goal: Understand context and stateful interactions."
   ]
  },
  {
   "cell_type": "code",
   "execution_count": null,
   "id": "0897821c-7834-45a2-844c-97f759cefda5",
   "metadata": {},
   "outputs": [],
   "source": []
  },
  {
   "cell_type": "markdown",
   "id": "742c7aed-4835-483d-b4be-affe524f0252",
   "metadata": {},
   "source": [
    "Exercise 7: Creative Writing\n",
    "\n",
    "Task: Generate a short poem, a story, or a joke.\n",
    "\n",
    "Variation: Compare outputs for different temperature values.\n",
    "\n",
    "Goal: Explore model creativity."
   ]
  },
  {
   "cell_type": "code",
   "execution_count": null,
   "id": "6fb7cf68-3922-491a-bdf4-186526bd16f3",
   "metadata": {},
   "outputs": [],
   "source": []
  },
  {
   "cell_type": "markdown",
   "id": "a4e97783-7c90-488a-a176-a17fdbdc7c0c",
   "metadata": {},
   "source": [
    "Exercise 8: Text Transformation\n",
    "\n",
    "Task: Input text and ask the model to:\n",
    "\n",
    "Translate it to another language\n",
    "\n",
    "Convert to passive voice\n",
    "\n",
    "Change tone (formal → casual)\n",
    "\n",
    "Goal: See versatility of text manipulation."
   ]
  },
  {
   "cell_type": "code",
   "execution_count": null,
   "id": "f6621be8-b2ce-42da-8df0-1314d3753017",
   "metadata": {},
   "outputs": [],
   "source": []
  }
 ],
 "metadata": {
  "kernelspec": {
   "display_name": "Python 3 [3.10]",
   "language": "python",
   "name": "python3"
  },
  "language_info": {
   "codemirror_mode": {
    "name": "ipython",
    "version": 3
   },
   "file_extension": ".py",
   "mimetype": "text/x-python",
   "name": "python",
   "nbconvert_exporter": "python",
   "pygments_lexer": "ipython3",
   "version": "3.10.2"
  }
 },
 "nbformat": 4,
 "nbformat_minor": 5
}
